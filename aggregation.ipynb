{
 "cells": [
  {
   "cell_type": "code",
   "execution_count": null,
   "id": "b07c4729",
   "metadata": {},
   "outputs": [],
   "source": [
    "aggregations in numpy"
   ]
  },
  {
   "cell_type": "code",
   "execution_count": 16,
   "id": "ed00808a",
   "metadata": {},
   "outputs": [
    {
     "data": {
      "text/plain": [
       "array([10, 20, 30, 40, 50])"
      ]
     },
     "execution_count": 16,
     "metadata": {},
     "output_type": "execute_result"
    }
   ],
   "source": [
    "import numpy as np\n",
    "arr1 = np.array([10, 20, 30, 40, 50])\n",
    "arr1"
   ]
  },
  {
   "cell_type": "code",
   "execution_count": 17,
   "id": "b74099d9",
   "metadata": {},
   "outputs": [
    {
     "data": {
      "text/plain": [
       "array([[ 0, 10, 20],\n",
       "       [30, 40, 50],\n",
       "       [60, 70, 80]])"
      ]
     },
     "execution_count": 17,
     "metadata": {},
     "output_type": "execute_result"
    }
   ],
   "source": [
    "arr2 = np.array([[0, 10, 20], [30, 40, 50], [60, 70, 80]])\n",
    "arr2\n"
   ]
  },
  {
   "cell_type": "code",
   "execution_count": 18,
   "id": "b7e1d311",
   "metadata": {},
   "outputs": [
    {
     "data": {
      "text/plain": [
       "array([[ 14,   6,   9, -12,  19,  72],\n",
       "       [ -9,   8,  22,   0,  99, -11]])"
      ]
     },
     "execution_count": 18,
     "metadata": {},
     "output_type": "execute_result"
    }
   ],
   "source": [
    "arr3 = np.array([[14, 6, 9, -12, 19, 72],[-9, 8, 22, 0, 99, -11]])\n",
    "arr3"
   ]
  },
  {
   "cell_type": "code",
   "execution_count": null,
   "id": "d269a836",
   "metadata": {},
   "outputs": [],
   "source": [
    "sum function"
   ]
  },
  {
   "cell_type": "code",
   "execution_count": 23,
   "id": "c9c60359",
   "metadata": {},
   "outputs": [
    {
     "data": {
      "text/plain": [
       "150"
      ]
     },
     "execution_count": 23,
     "metadata": {},
     "output_type": "execute_result"
    }
   ],
   "source": [
    "arr1.sum(axis=0)"
   ]
  },
  {
   "cell_type": "code",
   "execution_count": null,
   "id": "04af0309",
   "metadata": {},
   "outputs": [],
   "source": [
    "average function"
   ]
  },
  {
   "cell_type": "code",
   "execution_count": 25,
   "id": "b8358d74",
   "metadata": {},
   "outputs": [
    {
     "data": {
      "text/plain": [
       "30.0"
      ]
     },
     "execution_count": 25,
     "metadata": {},
     "output_type": "execute_result"
    }
   ],
   "source": [
    "np.average(arr1)"
   ]
  },
  {
   "cell_type": "code",
   "execution_count": 26,
   "id": "284adb58",
   "metadata": {},
   "outputs": [
    {
     "data": {
      "text/plain": [
       "18.083333333333332"
      ]
     },
     "execution_count": 26,
     "metadata": {},
     "output_type": "execute_result"
    }
   ],
   "source": [
    "np.average(arr3)"
   ]
  },
  {
   "cell_type": "code",
   "execution_count": null,
   "id": "a4727cde",
   "metadata": {},
   "outputs": [],
   "source": [
    "Product "
   ]
  },
  {
   "cell_type": "code",
   "execution_count": 28,
   "id": "f06aa2dd",
   "metadata": {},
   "outputs": [
    {
     "data": {
      "text/plain": [
       "0"
      ]
     },
     "execution_count": 28,
     "metadata": {},
     "output_type": "execute_result"
    }
   ],
   "source": [
    "np.prod(arr2)"
   ]
  },
  {
   "cell_type": "code",
   "execution_count": 29,
   "id": "0fb72a23",
   "metadata": {},
   "outputs": [
    {
     "data": {
      "text/plain": [
       "-2075787264"
      ]
     },
     "execution_count": 29,
     "metadata": {},
     "output_type": "execute_result"
    }
   ],
   "source": [
    "y = np.random.randint(1, 10, size = (5, 5))\n",
    "np.prod(y)"
   ]
  },
  {
   "cell_type": "code",
   "execution_count": 31,
   "id": "0900c4b8",
   "metadata": {},
   "outputs": [],
   "source": [
    "Min function"
   ]
  },
  {
   "cell_type": "code",
   "execution_count": 33,
   "id": "fc2cd4aa",
   "metadata": {},
   "outputs": [
    {
     "data": {
      "text/plain": [
       "array([ 0, 10, 20])"
      ]
     },
     "execution_count": 33,
     "metadata": {},
     "output_type": "execute_result"
    }
   ],
   "source": [
    "arr2.min(axis=0)"
   ]
  },
  {
   "cell_type": "code",
   "execution_count": 34,
   "id": "681bbb6a",
   "metadata": {},
   "outputs": [
    {
     "data": {
      "text/plain": [
       "array([ 0, 30, 60])"
      ]
     },
     "execution_count": 34,
     "metadata": {},
     "output_type": "execute_result"
    }
   ],
   "source": [
    "arr2.min(axis=1)"
   ]
  },
  {
   "cell_type": "code",
   "execution_count": null,
   "id": "5947e8b7",
   "metadata": {},
   "outputs": [],
   "source": [
    "max function"
   ]
  },
  {
   "cell_type": "code",
   "execution_count": 36,
   "id": "7244f905",
   "metadata": {},
   "outputs": [
    {
     "data": {
      "text/plain": [
       "50"
      ]
     },
     "execution_count": 36,
     "metadata": {},
     "output_type": "execute_result"
    }
   ],
   "source": [
    "arr1.max()"
   ]
  },
  {
   "cell_type": "code",
   "execution_count": 37,
   "id": "166d3e55",
   "metadata": {},
   "outputs": [
    {
     "data": {
      "text/plain": [
       "99"
      ]
     },
     "execution_count": 37,
     "metadata": {},
     "output_type": "execute_result"
    }
   ],
   "source": [
    "arr3.max()"
   ]
  },
  {
   "cell_type": "code",
   "execution_count": null,
   "id": "404d7d5d",
   "metadata": {},
   "outputs": [],
   "source": [
    "mean function"
   ]
  },
  {
   "cell_type": "code",
   "execution_count": 38,
   "id": "677ab6fa",
   "metadata": {},
   "outputs": [
    {
     "data": {
      "text/plain": [
       "40.0"
      ]
     },
     "execution_count": 38,
     "metadata": {},
     "output_type": "execute_result"
    }
   ],
   "source": [
    "arr2.mean()"
   ]
  },
  {
   "cell_type": "code",
   "execution_count": 39,
   "id": "dde6c109",
   "metadata": {},
   "outputs": [
    {
     "data": {
      "text/plain": [
       "30.0"
      ]
     },
     "execution_count": 39,
     "metadata": {},
     "output_type": "execute_result"
    }
   ],
   "source": [
    "arr1.mean()"
   ]
  },
  {
   "cell_type": "markdown",
   "id": "1f6d8733",
   "metadata": {},
   "source": [
    "median function"
   ]
  },
  {
   "cell_type": "code",
   "execution_count": 40,
   "id": "e32c3b5f",
   "metadata": {},
   "outputs": [
    {
     "data": {
      "text/plain": [
       "30.0"
      ]
     },
     "execution_count": 40,
     "metadata": {},
     "output_type": "execute_result"
    }
   ],
   "source": [
    "np.median(arr1)"
   ]
  },
  {
   "cell_type": "code",
   "execution_count": 41,
   "id": "2a1a852c",
   "metadata": {},
   "outputs": [
    {
     "data": {
      "text/plain": [
       "40.0"
      ]
     },
     "execution_count": 41,
     "metadata": {},
     "output_type": "execute_result"
    }
   ],
   "source": [
    "np.median(arr2)"
   ]
  },
  {
   "cell_type": "code",
   "execution_count": 43,
   "id": "3973df02",
   "metadata": {},
   "outputs": [],
   "source": [
    "standard deviaton"
   ]
  },
  {
   "cell_type": "code",
   "execution_count": 44,
   "id": "84644519",
   "metadata": {},
   "outputs": [
    {
     "data": {
      "text/plain": [
       "14.142135623730951"
      ]
     },
     "execution_count": 44,
     "metadata": {},
     "output_type": "execute_result"
    }
   ],
   "source": [
    "arr1.std()"
   ]
  },
  {
   "cell_type": "code",
   "execution_count": 45,
   "id": "8a45f623",
   "metadata": {},
   "outputs": [
    {
     "data": {
      "text/plain": [
       "25.81988897471611"
      ]
     },
     "execution_count": 45,
     "metadata": {},
     "output_type": "execute_result"
    }
   ],
   "source": [
    "arr2.std()"
   ]
  },
  {
   "cell_type": "code",
   "execution_count": null,
   "id": "c085645f",
   "metadata": {},
   "outputs": [],
   "source": [
    "cumsum function"
   ]
  },
  {
   "cell_type": "code",
   "execution_count": 51,
   "id": "4fc68152",
   "metadata": {},
   "outputs": [
    {
     "data": {
      "text/plain": [
       "array([  0,  10,  30,  60, 100, 150, 210, 280, 360], dtype=int32)"
      ]
     },
     "execution_count": 51,
     "metadata": {},
     "output_type": "execute_result"
    }
   ],
   "source": [
    "arr2.cumsum()"
   ]
  },
  {
   "cell_type": "code",
   "execution_count": 52,
   "id": "f7a8f583",
   "metadata": {},
   "outputs": [
    {
     "data": {
      "text/plain": [
       "array([[  0,  10,  30],\n",
       "       [ 30,  70, 120],\n",
       "       [ 60, 130, 210]], dtype=int32)"
      ]
     },
     "execution_count": 52,
     "metadata": {},
     "output_type": "execute_result"
    }
   ],
   "source": [
    "arr2.cumsum(1)"
   ]
  },
  {
   "cell_type": "code",
   "execution_count": null,
   "id": "e5c3d950",
   "metadata": {},
   "outputs": [],
   "source": [
    "cumprod"
   ]
  },
  {
   "cell_type": "code",
   "execution_count": 53,
   "id": "90c44ae2",
   "metadata": {},
   "outputs": [
    {
     "data": {
      "text/plain": [
       "array([0, 0, 0, 0, 0, 0, 0, 0, 0], dtype=int32)"
      ]
     },
     "execution_count": 53,
     "metadata": {},
     "output_type": "execute_result"
    }
   ],
   "source": [
    "arr2.cumprod()"
   ]
  },
  {
   "cell_type": "code",
   "execution_count": 54,
   "id": "93640257",
   "metadata": {},
   "outputs": [
    {
     "data": {
      "text/plain": [
       "array([[     0,      0,      0],\n",
       "       [    30,   1200,  60000],\n",
       "       [    60,   4200, 336000]], dtype=int32)"
      ]
     },
     "execution_count": 54,
     "metadata": {},
     "output_type": "execute_result"
    }
   ],
   "source": [
    "arr2.cumprod(1)"
   ]
  },
  {
   "cell_type": "code",
   "execution_count": null,
   "id": "b8b85d86",
   "metadata": {},
   "outputs": [],
   "source": []
  }
 ],
 "metadata": {
  "kernelspec": {
   "display_name": "Python 3",
   "language": "python",
   "name": "python3"
  },
  "language_info": {
   "codemirror_mode": {
    "name": "ipython",
    "version": 3
   },
   "file_extension": ".py",
   "mimetype": "text/x-python",
   "name": "python",
   "nbconvert_exporter": "python",
   "pygments_lexer": "ipython3",
   "version": "3.8.8"
  }
 },
 "nbformat": 4,
 "nbformat_minor": 5
}
