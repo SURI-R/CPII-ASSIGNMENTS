{
 "cells": [
  {
   "cell_type": "markdown",
   "id": "f806620c",
   "metadata": {},
   "source": [
    "# SURI.R                                                                                              \n",
    "#                                CPII ASSIGNMENT"
   ]
  },
  {
   "cell_type": "markdown",
   "id": "8fd3f0d1",
   "metadata": {},
   "source": [
    "# Inheritance and its types "
   ]
  },
  {
   "cell_type": "markdown",
   "id": "8a6e6433",
   "metadata": {},
   "source": [
    "Single inheritance\n"
   ]
  },
  {
   "cell_type": "code",
   "execution_count": 3,
   "id": "3de2c721",
   "metadata": {},
   "outputs": [
    {
     "name": "stdout",
     "output_type": "stream",
     "text": [
      "details in Vehicle class\n",
      "details in Car class\n"
     ]
    }
   ],
   "source": [
    "class Vehicle:\n",
    "    def in_Vehicle(self):\n",
    "        print('details in Vehicle class')\n",
    "\n",
    "# Derived class\n",
    "class Bike(Vehicle):\n",
    "    def in_bike(self):\n",
    "        print('details in bike class')\n",
    "\n",
    "# Create object of Car\n",
    "obj = Bike()\n",
    "obj.in_Vehicle()\n",
    "obj.in_bike()"
   ]
  },
  {
   "cell_type": "code",
   "execution_count": null,
   "id": "c98d583e",
   "metadata": {},
   "outputs": [],
   "source": [
    "multiple"
   ]
  },
  {
   "cell_type": "code",
   "execution_count": 17,
   "id": "5f868fb4",
   "metadata": {},
   "outputs": [
    {
     "name": "stdout",
     "output_type": "stream",
     "text": [
      "details of a person\n",
      "Name: suri Age: 23\n",
      "details of factory class\n",
      "Name: whitehat location: india\n",
      "Details of Employee class\n",
      "Salary: 30000 working as: cyber security\n"
     ]
    }
   ],
   "source": [
    "# Base class 1\n",
    "class Person:\n",
    "    def person_info(self, name, age):\n",
    "        print('details of a person')\n",
    "        print('Name:', name, 'Age:', age)\n",
    "\n",
    "# Base class 2\n",
    "class factory:\n",
    "    def factory_info(self, company_name, location):\n",
    "        print('details of factory class')\n",
    "        print('Name:', company_name, 'location:', location)\n",
    "\n",
    "# Derived class\n",
    "class employee(Person, factory):\n",
    "    def employee_info(self, salary, job):\n",
    "        print('Details of Employee class')\n",
    "        print('Salary:', salary, 'working as:', job)\n",
    "obj1 = employee()\n",
    "\n",
    "# access data\n",
    "obj1.person_info('suri', 23)\n",
    "obj1.factory_info('whitehat', 'india')\n",
    "obj1.employee_info(30000, 'cyber security')"
   ]
  },
  {
   "cell_type": "code",
   "execution_count": null,
   "id": "086fba18",
   "metadata": {},
   "outputs": [],
   "source": [
    "multilevel"
   ]
  },
  {
   "cell_type": "code",
   "execution_count": 19,
   "id": "71d7afbf",
   "metadata": {},
   "outputs": [
    {
     "name": "stdout",
     "output_type": "stream",
     "text": [
      "details in Vehicle class\n",
      "details in bike class\n",
      "details in racing bike class\n"
     ]
    }
   ],
   "source": [
    "class Vehicle:\n",
    "    def in_Vehicle(self):\n",
    "        print('details in Vehicle class')\n",
    "\n",
    "# Derived class\n",
    "class bike(Vehicle):\n",
    "    def in_bike(self):\n",
    "        print('details in bike class')\n",
    "\n",
    "class RacingBike(bike):\n",
    "    def in_racingbike(self):\n",
    "        print('details in racing bike class')\n",
    "# Create object of Car\n",
    "obj = RacingBike()\n",
    "obj.in_Vehicle()\n",
    "obj.in_bike()\n",
    "obj.in_racingbike()"
   ]
  },
  {
   "cell_type": "code",
   "execution_count": null,
   "id": "5f80d0ec",
   "metadata": {},
   "outputs": [],
   "source": [
    "Hierarchical"
   ]
  },
  {
   "cell_type": "code",
   "execution_count": 20,
   "id": "ea7b8218",
   "metadata": {},
   "outputs": [
    {
     "name": "stdout",
     "output_type": "stream",
     "text": [
      "This is Vehicle\n",
      "bike name is: BMW\n",
      "This is Vehicle\n",
      "bus name is: Ford\n"
     ]
    }
   ],
   "source": [
    "class Vehicle:\n",
    "    def info(self):\n",
    "        print(\"This is Vehicle\")\n",
    "\n",
    "class bike(Vehicle):\n",
    "    def bike_info(self, name):\n",
    "        print(\"bike name is:\", name)\n",
    "\n",
    "class Bus(Vehicle):\n",
    "    def bus_info(self, name):\n",
    "        print(\"bus name is:\", name)\n",
    "\n",
    "obj10 = bike()\n",
    "obj10.info()\n",
    "obj10.bike_info('BMW')\n",
    "\n",
    "obj20= Bus()\n",
    "obj20.info()\n",
    "obj20.bus_info('Ford')"
   ]
  },
  {
   "cell_type": "code",
   "execution_count": null,
   "id": "19ca6c25",
   "metadata": {},
   "outputs": [],
   "source": [
    "hybrid"
   ]
  },
  {
   "cell_type": "code",
   "execution_count": 23,
   "id": "5aa63c67",
   "metadata": {},
   "outputs": [
    {
     "name": "stdout",
     "output_type": "stream",
     "text": [
      "Inside Vehicle class\n",
      "Inside Bike class\n",
      "Inside Racing Bike class\n"
     ]
    }
   ],
   "source": [
    "class Vehicle:\n",
    "    def vehicle_info(self):\n",
    "        print(\"Inside Vehicle class\")\n",
    "\n",
    "class bike(Vehicle):\n",
    "    def bike_info(self):\n",
    "        print(\"Inside Bike class\")\n",
    "\n",
    "class Bus(Vehicle):\n",
    "    def bus_info(self):\n",
    "        print(\"Inside Truck class\")\n",
    "\n",
    "# Sports Car can inherits properties of Vehicle and Car\n",
    "class RacingBike(bike, Vehicle):\n",
    "    def racingbike_info(self):\n",
    "        print(\"Inside Racing Bike class\")\n",
    "\n",
    "# create object\n",
    "s_bike =RacingBike()\n",
    "\n",
    "s_bike.vehicle_info()\n",
    "s_bike.bike_info()\n",
    "s_bike.racingbike_info()"
   ]
  },
  {
   "cell_type": "code",
   "execution_count": null,
   "id": "8394a94b",
   "metadata": {},
   "outputs": [],
   "source": []
  }
 ],
 "metadata": {
  "kernelspec": {
   "display_name": "Python 3",
   "language": "python",
   "name": "python3"
  },
  "language_info": {
   "codemirror_mode": {
    "name": "ipython",
    "version": 3
   },
   "file_extension": ".py",
   "mimetype": "text/x-python",
   "name": "python",
   "nbconvert_exporter": "python",
   "pygments_lexer": "ipython3",
   "version": "3.8.8"
  }
 },
 "nbformat": 4,
 "nbformat_minor": 5
}
